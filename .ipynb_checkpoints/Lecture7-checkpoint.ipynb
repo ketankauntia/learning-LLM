{
 "cells": [
  {
   "cell_type": "code",
   "execution_count": 5,
   "id": "2ee11e47-7bcf-499c-8d79-7f7b4c640a5f",
   "metadata": {},
   "outputs": [
    {
     "name": "stdout",
     "output_type": "stream",
     "text": [
      "Total no of characters :  20781\n",
      "THE VERDICT\n",
      "June 1908\n",
      "\n",
      "I had always thought Jack Gisburn rather a cheap genius--though a\n",
      "\n",
      "good fell\n"
     ]
    }
   ],
   "source": [
    "with open(\"the-verdict.txt\",\"r\",encoding=\"utf-8\") as f:\n",
    "    raw_text = f.read()\n",
    "\n",
    "print(\"Total no of characters : \",len(raw_text))\n",
    "print(raw_text[:99]) \n",
    "# also prints the 1st 100 characters of the file."
   ]
  },
  {
   "cell_type": "code",
   "execution_count": 11,
   "id": "86d8b3f9-fa7f-4983-92da-77b07a46a934",
   "metadata": {},
   "outputs": [
    {
     "name": "stdout",
     "output_type": "stream",
     "text": [
      "['Hello', ',', '', ' ', 'world', '.', '', ' ', 'this', ',', '', ' ', 'is', ' ', 'a', ' ', 'test', '.', '']\n"
     ]
    }
   ],
   "source": [
    "#tokenizing the input data\n",
    "\n",
    "# re -> regular expression liblary\n",
    "# splitting words using spaces and charcaters..\n",
    "\n",
    "import re\n",
    "\n",
    "text = \"Hello, world. this, is a test.\"\n",
    "result = re.split(r'([,.]|\\s)', text)\n",
    "\n",
    "print(result)"
   ]
  },
  {
   "cell_type": "code",
   "execution_count": 12,
   "id": "2a9a310f-a56b-4cc2-9ffb-46566ef5c74f",
   "metadata": {},
   "outputs": [
    {
     "name": "stdout",
     "output_type": "stream",
     "text": [
      "['Hello', ',', 'world', '.', 'this', ',', 'is', 'a', 'test', '.']\n"
     ]
    }
   ],
   "source": [
    "#  now there are a lot of white spaces. in order to ignore them in the output,\n",
    "\n",
    "result = [item for item in result if item.strip()]\n",
    "print(result)"
   ]
  },
  {
   "cell_type": "code",
   "execution_count": 19,
   "id": "de0ecb6e-292a-40ed-8c1a-1f97940023e6",
   "metadata": {},
   "outputs": [
    {
     "name": "stdout",
     "output_type": "stream",
     "text": [
      "['Hello', ',', 'world', '.', 'this', ',', '--', 'as', 'is', 'a', 'test', '.']\n"
     ]
    }
   ],
   "source": [
    "# but now we want all special chars \n",
    "\n",
    "text = \"Hello, world. this, --as is a test.\"\n",
    "result = re.split(r'([,.:;?_!\"()\\']|--|\\s)', text)\n",
    "result = [item.strip() for item in result if item.strip()]\n",
    "\n",
    "\n",
    "result = [item for item in result if item.strip()]\n",
    "print(result)"
   ]
  },
  {
   "cell_type": "code",
   "execution_count": null,
   "id": "009a3c91-2095-4adf-9d27-71f86fb5d3cb",
   "metadata": {},
   "outputs": [],
   "source": []
  }
 ],
 "metadata": {
  "kernelspec": {
   "display_name": "Python 3 (ipykernel)",
   "language": "python",
   "name": "python3"
  },
  "language_info": {
   "codemirror_mode": {
    "name": "ipython",
    "version": 3
   },
   "file_extension": ".py",
   "mimetype": "text/x-python",
   "name": "python",
   "nbconvert_exporter": "python",
   "pygments_lexer": "ipython3",
   "version": "3.13.1"
  }
 },
 "nbformat": 4,
 "nbformat_minor": 5
}
